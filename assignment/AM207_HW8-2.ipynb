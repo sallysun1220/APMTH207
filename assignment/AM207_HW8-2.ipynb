{
 "cells": [
  {
   "cell_type": "markdown",
   "metadata": {},
   "source": [
    "# APMTH 207: Advanced Scientific Computing: \n",
    "## Stochastic Methods for Data Analysis, Inference and Optimization\n",
    "## Homework #8\n",
    "**Harvard University**<br>\n",
    "**Spring 2017**<br>\n",
    "**Instructors: Rahul Dave**<br>\n",
    "**Due Date: ** Friday, March 31st, 2017 at 11:59pm\n",
    "\n",
    "**Instructions:**\n",
    "\n",
    "- Upload your final answers as well as your iPython notebook containing all work to Canvas.\n",
    "\n",
    "- Structure your notebook and your work to maximize readability."
   ]
  },
  {
   "cell_type": "markdown",
   "metadata": {},
   "source": [
    "## Problem 1: Application of Data Augmentation\n",
    "\n",
    "A plant nursery in Cambridge is exprimentally cross-breeding two types of hibiscus flowers: blue and pink. The goal is to create an exotic flower whose petals are pink with a ring of blue on each. \n",
    "\n",
    "There are four types of child plant that can result from this cross-breeding: \n",
    "\n",
    "  - Type 1: blue petals\n",
    "  - Type 2: pink petals \n",
    "  - Type 3: purple petals\n",
    "  - Type 4: pink petals with a blue ring on each (the desired effect). \n",
    "\n",
    "Out of 197 initial cross-breedings, the nursery obtained the following distribution over the four types of child plants: \n",
    "$$Y = (y_1, y_2, y_3, y_4) = (125, 18, 20, 34)$$\n",
    "where $y_i$ represents the number of child plants that are of type $i$.\n",
    "\n",
    "The nursery then consulted a famed Harvard plant geneticist, who informed them that the probability of obtaining each type of child plant in any single breeding experiment is as follows:\n",
    "$$ \\frac{\\theta+2}{4}, \\frac{1-\\theta}{4}, \\frac{1-\\theta}{4}, \\frac{\\theta}{4}.$$\n",
    "Unfortunately, the geneticist did not specify the quantity $\\theta$.\n",
    "\n",
    "Clearly, the nursery is interested in understanding how many cross-breeding they must perform, on average, in order to obtain a certain number of child plants with the exotic blue rings. To do this they must be able to compute $\\theta$. \n",
    "\n",
    "The owners of the nursery, being top students in AM207, decided to model the experiment in hopes of discovering $\\theta$ using the results from their 197 initial experiments. \n",
    "\n",
    "They chose to model the observed data using a multinomial model and thus calculated the likelihood to be:\n",
    "$$ p(y  \\vert  \\theta) \\propto (2+\\theta)^{y_1} (1-\\theta)^{y_2+y_3}  \\, \\theta^{y_4}\n",
    "$$\n",
    "\n",
    "Being good Bayesians, they also imposed a prior on $\\theta$, $\\rm{Beta}(a, b)$.\n",
    "\n",
    "Thus, the posterior is:\n",
    "$$ p(\\theta \\vert  Y) \\propto \\left( 2+\\theta \\right)^{y_1} (1-\\theta)^{y_2+y_3} \\, \\theta^{\n",
    "y_4} \\, \\theta^{a-1} \\, (1-\\theta)^{b-1}. $$\n",
    "\n",
    "If the nursery owners are able to sample from the posterior, they would be understand the distribution of $\\theta$ and make appropriate estimates."
   ]
  },
  {
   "cell_type": "markdown",
   "metadata": {},
   "source": [
    "### Part A: Sampling using data augmentation\n",
    "\n",
    "Realizing that it would be difficult to sample from the posterior directly and after being repeatedly frustrated by attempts of Metropolis-Hastings and Gibbs sampling for this model, the nursery owners decided to augment their model and hopefully obtain a friendlier looking distribution that allows for easy sampling.\n",
    "\n",
    "They augment the data with a new variable $z$ such that:\n",
    "$$z + (y_1 - z) = y_1.$$\n",
    "That is, using $z$, we are breaking $y_1$, the number of type I child plants, into two subtypes. Let the probability of obtain the two subtype be $1/2$ and $\\theta/4$, respectively. Now, we can interpret $y_1$ to be the total number of trials in a binomial trial. Thus, the new likelihood can be written as\n",
    "$$ p(y, z  \\vert  \\theta) \\propto \\binom{y_{1}}{z} \\left (\\frac{1}{2} \\right )^{y_1-z} \\left(\\frac{\\theta}{4} \\right )^{z}  (1-\\theta)^{y_2+y_3}  \\, \\theta^{y_4}\n",
    "$$\n",
    "\n",
    "\n",
    "Derived the joint posterior $p(\\theta, z  \\vert  y)$ and sample from it using Gibbs sampling.\n",
    "\n",
    "Visualize the distribution of theta and, from this distribution, estimate the probability of obtaining a type 4 child plant (with the blue rings) in any cross-breeding experiment."
   ]
  },
  {
   "cell_type": "code",
   "execution_count": 1,
   "metadata": {
    "collapsed": true
   },
   "outputs": [],
   "source": [
    "%matplotlib inline\n",
    "import numpy as np\n",
    "from scipy import stats\n",
    "from scipy.stats import norm\n",
    "from scipy.stats import beta,binom\n",
    "from scipy.stats import distributions\n",
    "import matplotlib.pyplot as plt\n",
    "import seaborn as sns\n",
    "import time\n",
    "sns.set_style('white')\n",
    "sns.set_context('paper')\n",
    "%matplotlib inline\n",
    "import numpy as np\n",
    "import scipy as sp\n",
    "import matplotlib as mpl\n",
    "import matplotlib.cm as cm\n",
    "import matplotlib.pyplot as plt\n",
    "import pandas as pd\n",
    "pd.set_option('display.width', 500)\n",
    "pd.set_option('display.max_columns', 100)\n",
    "pd.set_option('display.notebook_repr_html', True)\n"
   ]
  },
  {
   "cell_type": "markdown",
   "metadata": {
    "collapsed": true
   },
   "source": [
    "<font color = \"blue\">\n",
    "Suppose we impose a prior on $\\theta$ - $Beta(a,b)$ \n",
    "Given a multinomial model and thus calculated the likelihood to be:\n",
    "$$ p(y  \\vert  \\theta) \\propto (2+\\theta)^{y_1} (1-\\theta)^{y_2+y_3}  \\, \\theta^{y_4}\n",
    "$$\n",
    "The marginal pdf of y is:\n",
    "$$\n",
    "p(y)\\propto p(y\\vert \\theta )p(\\theta )\\propto (2+\\theta )^{ y_{ 1 } }(1-\\theta )^{ y_{ 2 }+y_{ 3 } }\\, \\theta ^{ y_{ 4 } }(1-\\theta )^{ \\beta -1 }\\, \\theta ^{ \\alpha -1 }=(2+\\theta )^{ y_{ 1 } }(1-\\theta )^{ y_{ 2 }+y_{ 3 }+\\beta -1 }\\theta ^{ y_{ 4 }+\\alpha -1 }\n",
    "$$\n",
    "\n",
    "Since the likelihood can be written as\n",
    "$$ p(y, z  \\vert  \\theta) \\propto \\binom{y_{1}}{z} \\left (\\frac{1}{2} \\right )^{y_1-z} \\left(\\frac{\\theta}{4} \\right )^{z}  (1-\\theta)^{y_2+y_3}  \\, \\theta^{y_4}\n",
    "$$\n",
    "\n",
    "The joint posterior $$ p(\\theta ,z\\vert y)\\propto p(y,z\\vert \\theta )p(\\theta )\\propto \\binom{y_{1}}{z}  \\left( \\frac { 1 }{ 2 }  \\right) ^{ y_{ 1 }-z }\\left( \\frac { \\theta  }{ 4 }  \\right) ^{ z }(1-\\theta )^{ y_{ 2 }+y_{ 3 } }\\, \\theta ^{ y_{ 4 } }Beta(a,b)=\\binom{y_{1}}{z} \\left( \\frac { 1 }{ 2 }  \\right) ^{ y_{ 1 }-z }\\left( \\frac { \\theta  }{ 4 }  \\right) ^{ z }(1-\\theta )^{ y_{ 2 }+y_{ 3 }+b-1 }\\, \\theta ^{ y_{ 4 } +a-1}$$ \n",
    "\n",
    "\n",
    "Using Gibbs Sampling,\n",
    "$$p(\\theta \\vert y,z)\\propto p(y,z\\vert \\theta )p(\\theta )\\propto (1-\\theta )^{ y_{ 2 }+y_{ 3 }+b-1 }\\, \\theta ^{ z+y_{ 4 }+a-1 } \\sim Beta(z+y_{ 4 }+a, y_{ 2 }+y_{ 3 }+b )\n",
    "$$\n",
    "\n",
    "$$\n",
    "p(z\\vert \\theta ,y)\\propto \\binom{y_{1}}{z} \\left( \\frac { 1 }{ 2 }  \\right) ^{ y_{ 1 }-z }\\left( \\frac { \\theta  }{ 4 }  \\right) ^{ z } $$\n",
    "\n",
    "Since $  \\frac { 1 }{ 2 }  +\\frac { \\theta  }{ 4 } =\\frac { 2+\\theta  }{ 4 } \\neq 1$, we need to normalize it,\n",
    "\n",
    "$$\n",
    "p(z\\vert \\theta ,y)\\propto \\frac { { y_{ 1 } }{ z }\\left( \\frac { 1 }{ 2 } \\times \\frac { 4 }{ 2+\\theta  }  \\right) ^{ y_{ 1 }-z }\\left( \\frac { \\theta  }{ 4 } \\times \\frac { 4 }{ 2+\\theta  }  \\right) ^{ z } }{ (\\frac { 4 }{ 2+\\theta  } )^{ y_{ 1 } } } \\propto { y_{ 1 } }{ z }\\left( \\frac { 1 }{ 2 } \\times \\frac { 4 }{ 2+\\theta  }  \\right) ^{ y_{ 1 }-z }\\left( \\frac { \\theta  }{ 4 } \\times \\frac { 4 }{ 2+\\theta  }  \\right) ^{ z } \\sim Binomial(y_1,\\frac { \\theta  }{ 4 } \\times \\frac { 4 }{ 2+\\theta  } )\n",
    "$$"
   ]
  },
  {
   "cell_type": "markdown",
   "metadata": {},
   "source": [
    "<font color = \"blue\">\n",
    "#### To choose a resonable prior,first we calcuate the probability of each category given the data."
   ]
  },
  {
   "cell_type": "code",
   "execution_count": 20,
   "metadata": {
    "collapsed": false
   },
   "outputs": [
    {
     "name": "stdout",
     "output_type": "stream",
     "text": [
      "Probability of each category: [ 0.63451777  0.09137056  0.10152284  0.17258883]\n",
      "theta: [0.53807106598984777, 0.63451776649746194, 0.59390862944162437, 0.69035532994923854]\n",
      "variance of theta: 0.00310494988276\n",
      "mean of theta: 0.61421319797\n"
     ]
    }
   ],
   "source": [
    "y = [125,18,20,34]\n",
    "y1 = y[0]\n",
    "y2 = y[1]\n",
    "y3 = y[2]\n",
    "y4 = y[3]\n",
    "\n",
    "a = 1\n",
    "b = 1\n",
    "p = y/np.sum(y)\n",
    "print ('Probability of each category:',p)\n",
    "\n",
    "theta = [4*p[0]-2,1-4*p[1],1-4*p[2],4*p[3]]\n",
    "print ('theta:',theta)\n",
    "print ('variance of theta:',np.var(theta))\n",
    "print ('mean of theta:',np.mean(theta))"
   ]
  },
  {
   "cell_type": "markdown",
   "metadata": {},
   "source": [
    "<font color = \"blue\">\n",
    "Since for Beta(a,b), $$mean = \\frac{a}{a+b}$$, $$var = \\frac{ab}{(a+b)^2(a+b+1)}$$\n",
    "\n",
    "to make the mean and variance close to what we approximated before, we set a = 110, b = 70."
   ]
  },
  {
   "cell_type": "code",
   "execution_count": null,
   "metadata": {
    "collapsed": true
   },
   "outputs": [],
   "source": []
  },
  {
   "cell_type": "markdown",
   "metadata": {},
   "source": [
    "<font color = \"blue\">\n",
    "$$\\theta \\sim Beta(a,b)$$\n",
    "$$var(\\theta) = $$\n",
    "Based on the relaitonship between $\\theta$ and probability, $\\theta$ is more likely 0.6"
   ]
  },
  {
   "cell_type": "code",
   "execution_count": 23,
   "metadata": {
    "collapsed": false
   },
   "outputs": [],
   "source": [
    "a = 70\n",
    "b = 110\n",
    "N = 100000\n",
    "theta = np.zeros(N) \n",
    "\n",
    "z = np.zeros(N)\n",
    "theta[0] = beta.rvs(a, b)\n",
    "z[0] = 1\n",
    "for i in np.arange(1,N):\n",
    "    z[i] = binom.rvs(y1, theta[i-1]/(2+theta[i-1]))\n",
    "    theta[i]=beta.rvs(z[i] + y4 + a , y2 + y3 + b)\n",
    "    \n"
   ]
  },
  {
   "cell_type": "code",
   "execution_count": 25,
   "metadata": {
    "collapsed": false
   },
   "outputs": [
    {
     "data": {
      "image/png": "[encoded data removed]",
      "text/plain": [
       "<matplotlib.figure.Figure at 0x119fe5860>"
      ]
     },
     "metadata": {},
     "output_type": "display_data"
    }
   ],
   "source": [
    "plt.title('Trace Plot of Theta')\n",
    "plt.plot(theta)\n",
    "plt.show()"
   ]
  },
  {
   "cell_type": "code",
   "execution_count": 26,
   "metadata": {
    "collapsed": false
   },
   "outputs": [
    {
     "data": {
      "image/png": "[encoded data removed]",
      "text/plain": [
       "<matplotlib.figure.Figure at 0x119f71208>"
      ]
     },
     "metadata": {},
     "output_type": "display_data"
    }
   ],
   "source": [
    "\n",
    "plt.hist(theta, bins=30, alpha=0.3, normed=True)\n",
    "plt.title('Distribution of Thetas')\n",
    "plt.xlabel('theta')\n",
    "plt.show()"
   ]
  },
  {
   "cell_type": "code",
   "execution_count": 27,
   "metadata": {
    "collapsed": false
   },
   "outputs": [
    {
     "name": "stdout",
     "output_type": "stream",
     "text": [
      "The estimate of the probability of obtaining a type 4 child plant  0.115628112907\n"
     ]
    }
   ],
   "source": [
    "y_sum = np.sum(y)\n",
    "theta_mean = np.mean(theta)\n",
    "n_type4 = theta_mean/4.\n",
    "print ('The estimate of the probability of obtaining a type 4 child plant ',n_type4)"
   ]
  },
  {
   "cell_type": "markdown",
   "metadata": {
    "collapsed": true
   },
   "source": [
    "<font color = \"blue\">\n",
    "#### If we use uniform prior that $\\theta \\sim Beta(1,1)$,  a,b = 1"
   ]
  },
  {
   "cell_type": "code",
   "execution_count": 30,
   "metadata": {
    "collapsed": false
   },
   "outputs": [
    {
     "data": {
      "image/png": "[encoded data removed]",
      "text/plain": [
       "<matplotlib.figure.Figure at 0x118648048>"
      ]
     },
     "metadata": {},
     "output_type": "display_data"
    },
    {
     "data": {
      "image/png": "[encoded data removed]",
      "text/plain": [
       "<matplotlib.figure.Figure at 0x118ceb320>"
      ]
     },
     "metadata": {},
     "output_type": "display_data"
    }
   ],
   "source": [
    "a = 1\n",
    "b = 1\n",
    "N = 100000\n",
    "theta = np.zeros(N) \n",
    "z[0] = 1.\n",
    "z = np.zeros(N)\n",
    "theta[0] = beta.rvs(a, b)\n",
    "for i in np.arange(1,N):\n",
    "    z[i] = binom.rvs(y1, theta[i-1]/(2+theta[i-1]))\n",
    "    theta[i]=beta.rvs(z[i] + y4 + a , y2 + y3 + b)\n",
    "    \n",
    "plt.title('Trace Plot of Theta')\n",
    "plt.plot(theta)\n",
    "plt.show()\n",
    "\n",
    "plt.hist(theta, bins=30, alpha=0.3, normed=True)\n",
    "plt.title('Distribution of Thetas')\n",
    "plt.xlabel('theta')\n",
    "plt.show()"
   ]
  },
  {
   "cell_type": "code",
   "execution_count": 31,
   "metadata": {
    "collapsed": false
   },
   "outputs": [
    {
     "name": "stdout",
     "output_type": "stream",
     "text": [
      "The estimate of the probability of obtaining a type 4 child plant  0.155752156941\n"
     ]
    }
   ],
   "source": [
    "y_sum = np.sum(y)\n",
    "theta_mean = np.mean(theta)\n",
    "n_type4 = theta_mean/4.\n",
    "print ('The estimate of the probability of obtaining a type 4 child plant ',n_type4)"
   ]
  },
  {
   "cell_type": "markdown",
   "metadata": {},
   "source": [
    "<font color = \"blue\">\n",
    "As shown in these two case when choosing different priors, the results are not very similar. When the number of samples is not very sufficient, it seems that the priors will have a impact on the our posterior."
   ]
  },
  {
   "cell_type": "code",
   "execution_count": null,
   "metadata": {
    "collapsed": true
   },
   "outputs": [],
   "source": []
  }
 ],
 "metadata": {
  "anaconda-cloud": {},
  "kernelspec": {
   "display_name": "Python [conda root]",
   "language": "python",
   "name": "conda-root-py"
  },
  "language_info": {
   "codemirror_mode": {
    "name": "ipython",
    "version": 3
   },
   "file_extension": ".py",
   "mimetype": "text/x-python",
   "name": "python",
   "nbconvert_exporter": "python",
   "pygments_lexer": "ipython3",
   "version": "3.5.2"
  }
 },
 "nbformat": 4,
 "nbformat_minor": 1
}
